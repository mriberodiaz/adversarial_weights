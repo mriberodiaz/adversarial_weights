{
 "cells": [
  {
   "cell_type": "code",
   "execution_count": 1,
   "metadata": {
    "collapsed": true
   },
   "outputs": [],
   "source": [
    "import os\n",
    "%matplotlib inline\n",
    "import torch\n",
    "import torchvision\n",
    "import torchvision.transforms as transforms\n",
    "import torch.nn as nn\n",
    "import torch.nn.functional as F\n",
    "import torch.optim as optim\n",
    "\n",
    "from models import Net\n",
    "\n"
   ]
  },
  {
   "cell_type": "code",
   "execution_count": 27,
   "metadata": {},
   "outputs": [],
   "source": [
    "def accuracy(net, testloader):\n",
    "    correct = 0\n",
    "    total = 0\n",
    "    with torch.no_grad():\n",
    "        for data in testloader:\n",
    "            images, labels = data\n",
    "            outputs = net(images)\n",
    "            _, predicted = torch.max(outputs.data, 1)\n",
    "            total += labels.size(0)\n",
    "            correct += (predicted == labels).sum().item()\n",
    "    print('Accuracy of the network on the 10000 test images: %d %%' % (\n",
    "        100 * correct / total))\n",
    "    return correct/total"
   ]
  },
  {
   "cell_type": "code",
   "execution_count": 2,
   "metadata": {
    "collapsed": true
   },
   "outputs": [],
   "source": [
    "#Parameters\n",
    "n_epochs = 10\n",
    "batch_size = 100\n",
    "\n",
    "# Load data\n",
    "transform = transforms.Compose(\n",
    "    [transforms.ToTensor(),\n",
    "     transforms.Normalize((0.5,), (0.5,))])\n",
    "\n",
    "trainset = torchvision.datasets.MNIST(root='./data', train=True, download=True, transform=transform)\n",
    "\n",
    "trainloader = torch.utils.data.DataLoader(trainset, batch_size=4,\n",
    "                                          shuffle=True, num_workers=2)\n",
    "\n",
    "testset = torchvision.datasets.MNIST(root='./data', train=False, download=True, transform=transform)\n",
    "\n",
    "testloader = torch.utils.data.DataLoader(testset, batch_size=batch_size,\n",
    "                                         shuffle=False, num_workers=2)\n",
    "\n",
    "classes = (str(i) for i in range(1,11))\n",
    "\n",
    "\n",
    "\n",
    "\n",
    "net = Net()\n",
    "\n",
    "\n",
    "criterion = nn.CrossEntropyLoss()\n",
    "optimizer = optim.Adam(net.parameters())\n",
    "\n",
    "\n"
   ]
  },
  {
   "cell_type": "markdown",
   "metadata": {},
   "source": [
    "## Training\n",
    "Don't run if using pretrained model"
   ]
  },
  {
   "cell_type": "code",
   "execution_count": 3,
   "metadata": {},
   "outputs": [
    {
     "name": "stdout",
     "output_type": "stream",
     "text": [
      "[1,  2000] loss: 1.787\n",
      "[1,  4000] loss: 1.619\n",
      "[1,  6000] loss: 1.592\n",
      "[1,  8000] loss: 1.589\n",
      "[1, 10000] loss: 1.576\n",
      "[1, 12000] loss: 1.569\n",
      "[1, 14000] loss: 1.563\n",
      "[2,  2000] loss: 1.567\n",
      "[2,  4000] loss: 1.561\n",
      "[2,  6000] loss: 1.557\n",
      "[2,  8000] loss: 1.558\n",
      "[2, 10000] loss: 1.550\n",
      "[2, 12000] loss: 1.552\n",
      "[2, 14000] loss: 1.542\n",
      "[3,  2000] loss: 1.544\n",
      "[3,  4000] loss: 1.551\n",
      "[3,  6000] loss: 1.541\n",
      "[3,  8000] loss: 1.541\n",
      "[3, 10000] loss: 1.547\n",
      "[3, 12000] loss: 1.551\n",
      "[3, 14000] loss: 1.546\n",
      "[4,  2000] loss: 1.536\n",
      "[4,  4000] loss: 1.539\n",
      "[4,  6000] loss: 1.539\n",
      "[4,  8000] loss: 1.538\n",
      "[4, 10000] loss: 1.537\n",
      "[4, 12000] loss: 1.540\n",
      "[4, 14000] loss: 1.544\n",
      "[5,  2000] loss: 1.546\n",
      "[5,  4000] loss: 1.546\n",
      "[5,  6000] loss: 1.536\n",
      "[5,  8000] loss: 1.537\n",
      "[5, 10000] loss: 1.527\n",
      "[5, 12000] loss: 1.537\n",
      "[5, 14000] loss: 1.536\n",
      "[6,  2000] loss: 1.536\n",
      "[6,  4000] loss: 1.530\n",
      "[6,  6000] loss: 1.533\n",
      "[6,  8000] loss: 1.537\n",
      "[6, 10000] loss: 1.532\n",
      "[6, 12000] loss: 1.524\n",
      "[6, 14000] loss: 1.537\n",
      "[7,  2000] loss: 1.530\n",
      "[7,  4000] loss: 1.530\n",
      "[7,  6000] loss: 1.536\n",
      "[7,  8000] loss: 1.532\n",
      "[7, 10000] loss: 1.524\n",
      "[7, 12000] loss: 1.529\n",
      "[7, 14000] loss: 1.527\n",
      "[8,  2000] loss: 1.528\n",
      "[8,  4000] loss: 1.525\n",
      "[8,  6000] loss: 1.536\n",
      "[8,  8000] loss: 1.530\n",
      "[8, 10000] loss: 1.524\n",
      "[8, 12000] loss: 1.533\n",
      "[8, 14000] loss: 1.528\n",
      "[9,  2000] loss: 1.520\n",
      "[9,  4000] loss: 1.530\n",
      "[9,  6000] loss: 1.526\n",
      "[9,  8000] loss: 1.532\n",
      "[9, 10000] loss: 1.533\n",
      "[9, 12000] loss: 1.530\n",
      "[9, 14000] loss: 1.531\n",
      "[10,  2000] loss: 1.526\n",
      "[10,  4000] loss: 1.522\n",
      "[10,  6000] loss: 1.530\n",
      "[10,  8000] loss: 1.527\n",
      "[10, 10000] loss: 1.523\n",
      "[10, 12000] loss: 1.528\n",
      "[10, 14000] loss: 1.528\n",
      "Finished Training\n",
      "Accuracy of the network on the 10000 test images: 93 %\n"
     ]
    }
   ],
   "source": [
    "for epoch in range(n_epochs):  # loop over the dataset multiple times\n",
    "\n",
    "    running_loss = 0.0\n",
    "    for i, data in enumerate(trainloader, 0):\n",
    "        # get the inputs\n",
    "        inputs, labels = data\n",
    "\n",
    "        # zero the parameter gradients\n",
    "        optimizer.zero_grad()\n",
    "\n",
    "        # forward + backward + optimize\n",
    "        outputs = net(inputs)\n",
    "        loss = criterion(outputs, labels)\n",
    "        loss.backward()\n",
    "        optimizer.step()\n",
    "\n",
    "        # print statistics\n",
    "        running_loss += loss.item()\n",
    "        if i % 2000 == 1999:    # print every 2000 mini-batches\n",
    "            print('[%d, %5d] loss: %.3f' %\n",
    "                  (epoch + 1, i + 1, running_loss / 2000))\n",
    "            running_loss = 0.0\n",
    "\n",
    "print('Finished Training')\n"
   ]
  },
  {
   "cell_type": "code",
   "execution_count": 28,
   "metadata": {},
   "outputs": [
    {
     "name": "stdout",
     "output_type": "stream",
     "text": [
      "Accuracy of the network on the 10000 test images: 93 %\n"
     ]
    }
   ],
   "source": [
    "acc = accuracy(net, testloader)"
   ]
  },
  {
   "cell_type": "code",
   "execution_count": 6,
   "metadata": {
    "collapsed": true
   },
   "outputs": [],
   "source": [
    "# SAve model\n",
    "\n",
    "PATH= 'models'\n",
    "\n",
    "if not os.path.exists(PATH):\n",
    "    os.makedirs(PATH)\n",
    "\n",
    "torch.save(net.state_dict(), PATH+'/mnist.pt')"
   ]
  },
  {
   "cell_type": "markdown",
   "metadata": {},
   "source": [
    "# load pretrained model"
   ]
  },
  {
   "cell_type": "code",
   "execution_count": null,
   "metadata": {
    "collapsed": true
   },
   "outputs": [],
   "source": [
    "net = NetMNIST()\n",
    "pretrain_model_path = './models/mnist_100epochs.pt' \t# original model weights\n",
    "\n",
    "net.load_state_dict(torch.load(pretrain_model_path))\n"
   ]
  },
  {
   "cell_type": "code",
   "execution_count": 7,
   "metadata": {
    "collapsed": true
   },
   "outputs": [],
   "source": [
    "# View weights\n",
    "import matplotlib.pyplot as plt\n"
   ]
  },
  {
   "cell_type": "code",
   "execution_count": 23,
   "metadata": {},
   "outputs": [
    {
     "data": {
      "image/png": "[encoded data removed]",
      "text/plain": [
       "<Figure size 432x288 with 1 Axes>"
      ]
     },
     "metadata": {},
     "output_type": "display_data"
    }
   ],
   "source": [
    "weights = torch.cat([w.contiguous().view(-1) for w in net.parameters()]).detach().numpy()\n",
    "n, bins, patches = plt.hist(weights, 100, density=True, facecolor='g', alpha=0.75)\n",
    "plt.xlabel('weight value')\n",
    "plt.ylabel('Probability')\n",
    "plt.title('Histogram of weights')\n",
    "# xmin, xmax, ymin, ymax\n",
    "plt.axis((-1, 1, 0, 10))\n",
    "#plt.grid(True)\n",
    "plt.show()\n"
   ]
  },
  {
   "cell_type": "code",
   "execution_count": 25,
   "metadata": {},
   "outputs": [],
   "source": [
    "#### Quantization function\n",
    "def quantize(w, level):\n",
    "    return w\n"
   ]
  },
  {
   "cell_type": "code",
   "execution_count": 30,
   "metadata": {},
   "outputs": [
    {
     "name": "stdout",
     "output_type": "stream",
     "text": [
      "New accuracy: \n",
      "\n",
      "Accuracy of the network on the 10000 test images: 93 %\n"
     ]
    }
   ],
   "source": [
    "## new accuracy\n",
    "for w in net.parameters():\n",
    "    w = quantize(w, 4)\n",
    "\n",
    "print( 'New accuracy: \\n' )\n",
    "acc = accuracy(net, testloader)"
   ]
  },
  {
   "cell_type": "code",
   "execution_count": null,
   "metadata": {
    "collapsed": true
   },
   "outputs": [],
   "source": []
  }
 ],
 "metadata": {
  "kernelspec": {
   "display_name": "Python 3",
   "language": "python",
   "name": "python3"
  },
  "language_info": {
   "codemirror_mode": {
    "name": "ipython",
    "version": 3
   },
   "file_extension": ".py",
   "mimetype": "text/x-python",
   "name": "python",
   "nbconvert_exporter": "python",
   "pygments_lexer": "ipython3",
   "version": "3.6.8"
  }
 },
 "nbformat": 4,
 "nbformat_minor": 2
}
